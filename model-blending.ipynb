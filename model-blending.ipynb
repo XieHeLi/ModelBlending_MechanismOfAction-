{
 "cells": [
  {
   "cell_type": "code",
   "execution_count": 1,
   "metadata": {
    "_cell_guid": "b1076dfc-b9ad-4769-8c92-a6c4dae69d19",
    "_uuid": "8f2839f25d086af736a60e9eeb907d3b93b6e0e5",
    "execution": {
     "iopub.execute_input": "2020-11-30T11:20:02.228246Z",
     "iopub.status.busy": "2020-11-30T11:20:02.227426Z",
     "iopub.status.idle": "2020-11-30T11:20:03.336475Z",
     "shell.execute_reply": "2020-11-30T11:20:03.335332Z"
    },
    "papermill": {
     "duration": 1.128453,
     "end_time": "2020-11-30T11:20:03.336661",
     "exception": false,
     "start_time": "2020-11-30T11:20:02.208208",
     "status": "completed"
    },
    "tags": []
   },
   "outputs": [
    {
     "name": "stdout",
     "output_type": "stream",
     "text": [
      "/kaggle/input/lish-moa/train_features.csv\n",
      "/kaggle/input/lish-moa/train_drug.csv\n",
      "/kaggle/input/lish-moa/test_features.csv\n",
      "/kaggle/input/lish-moa/train_targets_nonscored.csv\n",
      "/kaggle/input/lish-moa/sample_submission.csv\n",
      "/kaggle/input/lish-moa/train_targets_scored.csv\n",
      "/kaggle/input/moa-result/TABNET_EVEN_1846_LP00001_S001_ZV18.csv\n",
      "/kaggle/input/moa-result/otherBLENDRESNET1833.csv\n",
      "/kaggle/input/moa-result/otherMB_1832.csv\n",
      "/kaggle/input/moa-result/TABNET_s001.csv\n",
      "/kaggle/input/moa-result/SNN_F7_EVEN_1842.csv\n",
      "/kaggle/input/moa-result/RAPIDS1840_other.csv\n",
      "/kaggle/input/moa-result/transfor_1835.csv\n",
      "/kaggle/input/moa-result/SNN_1839_Z2V9_MODIFYSM.csv\n",
      "/kaggle/input/moa-result/TABNET1841_other.csv\n",
      "/kaggle/input/moa-result/SNN_BEST_EVEN_1837.csv\n",
      "/kaggle/input/moa-result/otherBlend1825.csv\n",
      "/kaggle/input/moa-result/OtherMB_1842.csv\n",
      "/kaggle/input/moa-result/TAB_ZV2_1844.csv\n",
      "/kaggle/input/moa-result/MB11_1833.csv\n",
      "/kaggle/input/moa-result/MoaLib_1841.csv\n",
      "/kaggle/input/moa-result/TAB_LV5_S0008_1844.csv\n",
      "/kaggle/input/moa-result/PRESNN_1845.csv\n",
      "/kaggle/input/moa-result/SNN_1834.csv\n",
      "/kaggle/input/moa-result/SNN_best_1839.csv\n",
      "/kaggle/input/moa-result/Other1834.csv\n"
     ]
    }
   ],
   "source": [
    "# This Python 3 environment comes with many helpful analytics libraries installed\n",
    "# It is defined by the kaggle/python Docker image: https://github.com/kaggle/docker-python\n",
    "# For example, here's several helpful packages to load\n",
    "\n",
    "import numpy as np # linear algebra\n",
    "import pandas as pd # data processing, CSV file I/O (e.g. pd.read_csv)\n",
    "import torch\n",
    "\n",
    "# Input data files are available in the read-only \"../input/\" directory\n",
    "# For example, running this (by clicking run or pressing Shift+Enter) will list all files under the input directory\n",
    "\n",
    "import os\n",
    "for dirname, _, filenames in os.walk('/kaggle/input'):\n",
    "    for filename in filenames:\n",
    "        print(os.path.join(dirname, filename))\n",
    "\n",
    "# You can write up to 20GB to the current directory (/kaggle/working/) that gets preserved as output when you create a version using \"Save & Run All\" \n",
    "# You can also write temporary files to /kaggle/temp/, but they won't be saved outside of the current session"
   ]
  },
  {
   "cell_type": "code",
   "execution_count": 2,
   "metadata": {
    "execution": {
     "iopub.execute_input": "2020-11-30T11:20:03.368852Z",
     "iopub.status.busy": "2020-11-30T11:20:03.367872Z",
     "iopub.status.idle": "2020-11-30T11:20:03.371371Z",
     "shell.execute_reply": "2020-11-30T11:20:03.371982Z"
    },
    "papermill": {
     "duration": 0.023982,
     "end_time": "2020-11-30T11:20:03.372167",
     "exception": false,
     "start_time": "2020-11-30T11:20:03.348185",
     "status": "completed"
    },
    "tags": []
   },
   "outputs": [
    {
     "name": "stdout",
     "output_type": "stream",
     "text": [
      "[54.52562704 54.49591281 54.52562704 54.31830527 54.79452055 54.5553737\n",
      " 54.31830527]\n",
      "[ 0.04371301 -0.01868364  0.04371301 -0.39164004  0.60835996  0.10617774\n",
      " -0.39164004]\n"
     ]
    }
   ],
   "source": [
    "import torch.nn.functional as F\n",
    "\n",
    "result = 1/np.array([0.01834,0.01835,0.01834,0.01841,0.01825,0.01833,0.01841])\n",
    "print(result)\n",
    "result_norm = (result-result.mean())/(result.max()-result.min())\n",
    "\n",
    "print(result_norm)\n"
   ]
  },
  {
   "cell_type": "code",
   "execution_count": 3,
   "metadata": {
    "execution": {
     "iopub.execute_input": "2020-11-30T11:20:03.401327Z",
     "iopub.status.busy": "2020-11-30T11:20:03.400373Z",
     "iopub.status.idle": "2020-11-30T11:20:03.403874Z",
     "shell.execute_reply": "2020-11-30T11:20:03.404677Z"
    },
    "papermill": {
     "duration": 0.021485,
     "end_time": "2020-11-30T11:20:03.404871",
     "exception": false,
     "start_time": "2020-11-30T11:20:03.383386",
     "status": "completed"
    },
    "tags": []
   },
   "outputs": [
    {
     "name": "stdout",
     "output_type": "stream",
     "text": [
      "simple_weighted: [ 0.04371301 -0.01868364  0.04371301 -0.39164004  0.60835996  0.10617774\n",
      " -0.39164004]\n"
     ]
    }
   ],
   "source": [
    "result_sumavg = result/np.sum(result)\n",
    "print(\"simple_weighted:\",result_norm)"
   ]
  },
  {
   "cell_type": "code",
   "execution_count": 4,
   "metadata": {
    "execution": {
     "iopub.execute_input": "2020-11-30T11:20:03.440304Z",
     "iopub.status.busy": "2020-11-30T11:20:03.439499Z",
     "iopub.status.idle": "2020-11-30T11:20:03.524209Z",
     "shell.execute_reply": "2020-11-30T11:20:03.523366Z"
    },
    "papermill": {
     "duration": 0.106765,
     "end_time": "2020-11-30T11:20:03.524386",
     "exception": false,
     "start_time": "2020-11-30T11:20:03.417621",
     "status": "completed"
    },
    "tags": []
   },
   "outputs": [
    {
     "name": "stderr",
     "output_type": "stream",
     "text": [
      "/opt/conda/lib/python3.7/site-packages/ipykernel_launcher.py:1: UserWarning: Implicit dimension choice for softmax has been deprecated. Change the call to include dim=X as an argument.\n",
      "  \"\"\"Entry point for launching an IPython kernel.\n"
     ]
    },
    {
     "data": {
      "text/plain": [
       "tensor([0.1417, 0.1331, 0.1417, 0.0917, 0.2492, 0.1508, 0.0917],\n",
       "       dtype=torch.float64)"
      ]
     },
     "execution_count": 4,
     "metadata": {},
     "output_type": "execute_result"
    }
   ],
   "source": [
    "F.softmax(torch.tensor(result_norm))"
   ]
  },
  {
   "cell_type": "code",
   "execution_count": 5,
   "metadata": {
    "_cell_guid": "79c7e3d0-c299-4dcb-8224-4455121ee9b0",
    "_uuid": "d629ff2d2480ee46fbb7e2d37f6b5fab8052498a",
    "execution": {
     "iopub.execute_input": "2020-11-30T11:20:03.566782Z",
     "iopub.status.busy": "2020-11-30T11:20:03.565810Z",
     "iopub.status.idle": "2020-11-30T11:20:05.815198Z",
     "shell.execute_reply": "2020-11-30T11:20:05.814395Z"
    },
    "papermill": {
     "duration": 2.276346,
     "end_time": "2020-11-30T11:20:05.815339",
     "exception": false,
     "start_time": "2020-11-30T11:20:03.538993",
     "status": "completed"
    },
    "tags": []
   },
   "outputs": [],
   "source": [
    "#读取模型\n",
    "df_1 = pd.read_csv(\"/kaggle/input/moa-result/Other1834.csv\") \n",
    "\n",
    "df_2 = pd.read_csv(\"/kaggle/input/moa-result/transfor_1835.csv\")\n",
    "\n",
    "df_3 = pd.read_csv('/kaggle/input/moa-result/SNN_1834.csv')\n",
    "df_4 = pd.read_csv('/kaggle/input/moa-result/TABNET1841_other.csv')\n",
    "df_5 = pd.read_csv('/kaggle/input/moa-result/otherBlend1825.csv')\n",
    "\n",
    "df_6 = pd.read_csv('/kaggle/input/moa-result/otherBLENDRESNET1833.csv')\n",
    "df_7 = pd.read_csv(\"/kaggle/input/moa-result/TABNET_s001.csv\")\n",
    "\n",
    "def order_sub(sub):\n",
    "    return sub.sort_values('sig_id').reset_index(drop=True)"
   ]
  },
  {
   "cell_type": "code",
   "execution_count": 6,
   "metadata": {
    "execution": {
     "iopub.execute_input": "2020-11-30T11:20:05.855272Z",
     "iopub.status.busy": "2020-11-30T11:20:05.854468Z",
     "iopub.status.idle": "2020-11-30T11:20:05.928667Z",
     "shell.execute_reply": "2020-11-30T11:20:05.927787Z"
    },
    "papermill": {
     "duration": 0.100243,
     "end_time": "2020-11-30T11:20:05.928802",
     "exception": false,
     "start_time": "2020-11-30T11:20:05.828559",
     "status": "completed"
    },
    "tags": []
   },
   "outputs": [],
   "source": [
    "df_1 = order_sub(df_1)\n",
    "df_2 = order_sub(df_2)\n",
    "df_3 = order_sub(df_3)\n",
    "df_4 = order_sub(df_4)\n",
    "df_5 = order_sub(df_5)\n",
    "df_6 = order_sub(df_6)\n",
    "df_7 = order_sub(df_7)\n"
   ]
  },
  {
   "cell_type": "code",
   "execution_count": 7,
   "metadata": {
    "execution": {
     "iopub.execute_input": "2020-11-30T11:20:05.966731Z",
     "iopub.status.busy": "2020-11-30T11:20:05.965559Z",
     "iopub.status.idle": "2020-11-30T11:20:06.080270Z",
     "shell.execute_reply": "2020-11-30T11:20:06.079611Z"
    },
    "papermill": {
     "duration": 0.138319,
     "end_time": "2020-11-30T11:20:06.080409",
     "exception": false,
     "start_time": "2020-11-30T11:20:05.942090",
     "status": "completed"
    },
    "tags": []
   },
   "outputs": [],
   "source": [
    "#FIRST APPROACH\n",
    "\n",
    "weight1 = 0.1417\n",
    "weight2 = 0.1331\n",
    "weight3 =  0.1417\n",
    "weight4 = 0.0917\n",
    "weight5 = 0.2492\n",
    "weight6 = 0.1508\n",
    "weight7 = 0.0917\n",
    "#assert weight1 + weight2 + weight3 == 1.0\n",
    "\n",
    "\n",
    "BLEND = df_1.copy()\n",
    "\n",
    "BLEND.iloc[:,1:] = df_1.iloc[:,1:]*weight1 + df_2.iloc[:,1:]*weight2 + df_3.iloc[:,1:]*weight3 + df_4.iloc[:,1:]*weight4\\\n",
    "+ df_5.iloc[:,1:]*weight5+df_6.iloc[:,1:]*weight6+df_7.iloc[:,1:]*weight7\n",
    "\n"
   ]
  },
  {
   "cell_type": "code",
   "execution_count": 8,
   "metadata": {
    "execution": {
     "iopub.execute_input": "2020-11-30T11:20:06.128304Z",
     "iopub.status.busy": "2020-11-30T11:20:06.110624Z",
     "iopub.status.idle": "2020-11-30T11:20:06.131360Z",
     "shell.execute_reply": "2020-11-30T11:20:06.130550Z"
    },
    "papermill": {
     "duration": 0.037625,
     "end_time": "2020-11-30T11:20:06.131486",
     "exception": false,
     "start_time": "2020-11-30T11:20:06.093861",
     "status": "completed"
    },
    "tags": []
   },
   "outputs": [],
   "source": [
    "TARGET_COL = ['5-alpha_reductase_inhibitor', '11-beta-hsd1_inhibitor', 'acat_inhibitor', 'acetylcholine_receptor_agonist', 'acetylcholine_receptor_antagonist', 'acetylcholinesterase_inhibitor', 'adenosine_receptor_agonist', 'adenosine_receptor_antagonist', 'adenylyl_cyclase_activator', 'adrenergic_receptor_agonist', 'adrenergic_receptor_antagonist', 'akt_inhibitor', 'aldehyde_dehydrogenase_inhibitor', 'alk_inhibitor', 'ampk_activator', 'analgesic', 'androgen_receptor_agonist', 'androgen_receptor_antagonist', 'anesthetic_-_local', 'angiogenesis_inhibitor', 'angiotensin_receptor_antagonist', 'anti-inflammatory', 'antiarrhythmic', 'antibiotic', 'anticonvulsant', 'antifungal', 'antihistamine', 'antimalarial', 'antioxidant', 'antiprotozoal', 'antiviral', 'apoptosis_stimulant', 'aromatase_inhibitor', 'atm_kinase_inhibitor', 'atp-sensitive_potassium_channel_antagonist', 'atp_synthase_inhibitor', 'atpase_inhibitor', 'atr_kinase_inhibitor', 'aurora_kinase_inhibitor', 'autotaxin_inhibitor', 'bacterial_30s_ribosomal_subunit_inhibitor', 'bacterial_50s_ribosomal_subunit_inhibitor', 'bacterial_antifolate', 'bacterial_cell_wall_synthesis_inhibitor', 'bacterial_dna_gyrase_inhibitor', 'bacterial_dna_inhibitor', 'bacterial_membrane_integrity_inhibitor', 'bcl_inhibitor', 'bcr-abl_inhibitor', 'benzodiazepine_receptor_agonist', 'beta_amyloid_inhibitor', 'bromodomain_inhibitor', 'btk_inhibitor', 'calcineurin_inhibitor', 'calcium_channel_blocker', 'cannabinoid_receptor_agonist', 'cannabinoid_receptor_antagonist', 'carbonic_anhydrase_inhibitor', 'casein_kinase_inhibitor', 'caspase_activator', 'catechol_o_methyltransferase_inhibitor', 'cc_chemokine_receptor_antagonist', 'cck_receptor_antagonist', 'cdk_inhibitor', 'chelating_agent', 'chk_inhibitor', 'chloride_channel_blocker', 'cholesterol_inhibitor', 'cholinergic_receptor_antagonist', 'coagulation_factor_inhibitor', 'corticosteroid_agonist', 'cyclooxygenase_inhibitor', 'cytochrome_p450_inhibitor', 'dihydrofolate_reductase_inhibitor', 'dipeptidyl_peptidase_inhibitor', 'diuretic', 'dna_alkylating_agent', 'dna_inhibitor', 'dopamine_receptor_agonist', 'dopamine_receptor_antagonist', 'egfr_inhibitor', 'elastase_inhibitor', 'erbb2_inhibitor', 'estrogen_receptor_agonist', 'estrogen_receptor_antagonist', 'faah_inhibitor', 'farnesyltransferase_inhibitor', 'fatty_acid_receptor_agonist', 'fgfr_inhibitor', 'flt3_inhibitor', 'focal_adhesion_kinase_inhibitor', 'free_radical_scavenger', 'fungal_squalene_epoxidase_inhibitor', 'gaba_receptor_agonist', 'gaba_receptor_antagonist', 'gamma_secretase_inhibitor', 'glucocorticoid_receptor_agonist', 'glutamate_inhibitor', 'glutamate_receptor_agonist', 'glutamate_receptor_antagonist', 'gonadotropin_receptor_agonist', 'gsk_inhibitor', 'hcv_inhibitor', 'hdac_inhibitor', 'histamine_receptor_agonist', 'histamine_receptor_antagonist', 'histone_lysine_demethylase_inhibitor', 'histone_lysine_methyltransferase_inhibitor', 'hiv_inhibitor', 'hmgcr_inhibitor', 'hsp_inhibitor', 'igf-1_inhibitor', 'ikk_inhibitor', 'imidazoline_receptor_agonist', 'immunosuppressant', 'insulin_secretagogue', 'insulin_sensitizer', 'integrin_inhibitor', 'jak_inhibitor', 'kit_inhibitor', 'laxative', 'leukotriene_inhibitor', 'leukotriene_receptor_antagonist', 'lipase_inhibitor', 'lipoxygenase_inhibitor', 'lxr_agonist', 'mdm_inhibitor', 'mek_inhibitor', 'membrane_integrity_inhibitor', 'mineralocorticoid_receptor_antagonist', 'monoacylglycerol_lipase_inhibitor', 'monoamine_oxidase_inhibitor', 'monopolar_spindle_1_kinase_inhibitor', 'mtor_inhibitor', 'mucolytic_agent', 'neuropeptide_receptor_antagonist', 'nfkb_inhibitor', 'nicotinic_receptor_agonist', 'nitric_oxide_donor', 'nitric_oxide_production_inhibitor', 'nitric_oxide_synthase_inhibitor', 'norepinephrine_reuptake_inhibitor', 'nrf2_activator', 'opioid_receptor_agonist', 'opioid_receptor_antagonist', 'orexin_receptor_antagonist', 'p38_mapk_inhibitor', 'p-glycoprotein_inhibitor', 'parp_inhibitor', 'pdgfr_inhibitor', 'pdk_inhibitor', 'phosphodiesterase_inhibitor', 'phospholipase_inhibitor', 'pi3k_inhibitor', 'pkc_inhibitor', 'potassium_channel_activator', 'potassium_channel_antagonist', 'ppar_receptor_agonist', 'ppar_receptor_antagonist', 'progesterone_receptor_agonist', 'progesterone_receptor_antagonist', 'prostaglandin_inhibitor', 'prostanoid_receptor_antagonist', 'proteasome_inhibitor', 'protein_kinase_inhibitor', 'protein_phosphatase_inhibitor', 'protein_synthesis_inhibitor', 'protein_tyrosine_kinase_inhibitor', 'radiopaque_medium', 'raf_inhibitor', 'ras_gtpase_inhibitor', 'retinoid_receptor_agonist', 'retinoid_receptor_antagonist', 'rho_associated_kinase_inhibitor', 'ribonucleoside_reductase_inhibitor', 'rna_polymerase_inhibitor', 'serotonin_receptor_agonist', 'serotonin_receptor_antagonist', 'serotonin_reuptake_inhibitor', 'sigma_receptor_agonist', 'sigma_receptor_antagonist', 'smoothened_receptor_antagonist', 'sodium_channel_inhibitor', 'sphingosine_receptor_agonist', 'src_inhibitor', 'steroid', 'syk_inhibitor', 'tachykinin_antagonist', 'tgf-beta_receptor_inhibitor', 'thrombin_inhibitor', 'thymidylate_synthase_inhibitor', 'tlr_agonist', 'tlr_antagonist', 'tnf_inhibitor', 'topoisomerase_inhibitor', 'transient_receptor_potential_channel_antagonist', 'tropomyosin_receptor_kinase_inhibitor', 'trpv_agonist', 'trpv_antagonist', 'tubulin_inhibitor', 'tyrosine_kinase_inhibitor', 'ubiquitin_specific_protease_inhibitor', 'vegfr_inhibitor', 'vitamin_b', 'vitamin_d_receptor_agonist', 'wnt_inhibitor']\n",
    "NUM_TARGET = len(TARGET_COL)"
   ]
  },
  {
   "cell_type": "code",
   "execution_count": 9,
   "metadata": {
    "execution": {
     "iopub.execute_input": "2020-11-30T11:20:06.167944Z",
     "iopub.status.busy": "2020-11-30T11:20:06.167116Z",
     "iopub.status.idle": "2020-11-30T11:20:07.364837Z",
     "shell.execute_reply": "2020-11-30T11:20:07.364011Z"
    },
    "papermill": {
     "duration": 1.219806,
     "end_time": "2020-11-30T11:20:07.364996",
     "exception": false,
     "start_time": "2020-11-30T11:20:06.145190",
     "status": "completed"
    },
    "tags": []
   },
   "outputs": [
    {
     "name": "stdout",
     "output_type": "stream",
     "text": [
      "3982\n",
      "3982\n"
     ]
    },
    {
     "data": {
      "text/plain": [
       "[]"
      ]
     },
     "execution_count": 9,
     "metadata": {},
     "output_type": "execute_result"
    }
   ],
   "source": [
    "\n",
    "\n",
    "\n",
    "submission = pd.read_csv('/kaggle/input/lish-moa/sample_submission.csv')\n",
    "df = pd.read_csv(\"/kaggle/input/lish-moa/sample_submission.csv\")\n",
    "\n",
    "public_id = list(df['sig_id'].values)\n",
    "\n",
    "df_test = pd.read_csv('/kaggle/input/lish-moa/test_features.csv')\n",
    "test_id = list(df_test['sig_id'].values)\n",
    "\n",
    "print(len(public_id))\n",
    "print(len(test_id))\n",
    "\n",
    "private_id = list(set(test_id)-set(public_id))\n",
    "private_id"
   ]
  },
  {
   "cell_type": "code",
   "execution_count": 10,
   "metadata": {
    "execution": {
     "iopub.execute_input": "2020-11-30T11:20:07.406006Z",
     "iopub.status.busy": "2020-11-30T11:20:07.405243Z",
     "iopub.status.idle": "2020-11-30T11:20:10.197675Z",
     "shell.execute_reply": "2020-11-30T11:20:10.196823Z"
    },
    "papermill": {
     "duration": 2.818007,
     "end_time": "2020-11-30T11:20:10.197804",
     "exception": false,
     "start_time": "2020-11-30T11:20:07.379797",
     "status": "completed"
    },
    "tags": []
   },
   "outputs": [],
   "source": [
    "df_submit = pd.DataFrame(index = public_id+private_id, columns=TARGET_COL)\n",
    "df_submit.index.name = 'sig_id'\n",
    "df_submit[:] = 0\n",
    "df_predict = BLEND.copy()\n",
    "\n",
    "df_submit.loc[df_predict.sig_id,:] =  df_predict[TARGET_COL].values\n",
    "df_submit.loc[df_test[df_test.cp_type=='ctl_vehicle'].sig_id]= 0\n",
    "df_submit.to_csv('submission.csv',index=True)\n"
   ]
  },
  {
   "cell_type": "code",
   "execution_count": null,
   "metadata": {
    "papermill": {
     "duration": 0.014439,
     "end_time": "2020-11-30T11:20:10.228346",
     "exception": false,
     "start_time": "2020-11-30T11:20:10.213907",
     "status": "completed"
    },
    "tags": []
   },
   "outputs": [],
   "source": []
  }
 ],
 "metadata": {
  "kernelspec": {
   "display_name": "Python 3",
   "language": "python",
   "name": "python3"
  },
  "language_info": {
   "codemirror_mode": {
    "name": "ipython",
    "version": 3
   },
   "file_extension": ".py",
   "mimetype": "text/x-python",
   "name": "python",
   "nbconvert_exporter": "python",
   "pygments_lexer": "ipython3",
   "version": "3.7.6"
  },
  "papermill": {
   "duration": 13.93803,
   "end_time": "2020-11-30T11:20:11.256587",
   "environment_variables": {},
   "exception": null,
   "input_path": "__notebook__.ipynb",
   "output_path": "__notebook__.ipynb",
   "parameters": {},
   "start_time": "2020-11-30T11:19:57.318557",
   "version": "2.1.0"
  }
 },
 "nbformat": 4,
 "nbformat_minor": 4
}
